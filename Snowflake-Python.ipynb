{
 "cells": [
  {
   "cell_type": "markdown",
   "metadata": {},
   "source": [
    "# Test direct connection from Python using Snowflake's Connector"
   ]
  },
  {
   "cell_type": "code",
   "execution_count": null,
   "metadata": {},
   "outputs": [],
   "source": [
    "!pip3 install --upgrade snowflake-connector-python\n"
   ]
  },
  {
   "cell_type": "code",
   "execution_count": 1,
   "metadata": {},
   "outputs": [],
   "source": [
    "import os\n",
    "import snowflake.connector\n",
    "from dotenv import load_dotenv\n",
    "from pathlib import Path \n",
    "import pprint"
   ]
  },
  {
   "cell_type": "markdown",
   "metadata": {},
   "source": [
    "### Load Snowflake Config from .env file"
   ]
  },
  {
   "cell_type": "code",
   "execution_count": 2,
   "metadata": {},
   "outputs": [
    {
     "data": {
      "text/plain": [
       "True"
      ]
     },
     "execution_count": 2,
     "metadata": {},
     "output_type": "execute_result"
    }
   ],
   "source": [
    "# Load all setting from the environment file\n",
    "env_path = Path('.') / '.env-dev'\n",
    "load_dotenv(dotenv_path=env_path, verbose=True)"
   ]
  },
  {
   "cell_type": "markdown",
   "metadata": {},
   "source": [
    "### Connect to Snowflake and run a query"
   ]
  },
  {
   "cell_type": "code",
   "execution_count": 3,
   "metadata": {},
   "outputs": [
    {
     "name": "stdout",
     "output_type": "stream",
     "text": [
      "3.38.1\n"
     ]
    }
   ],
   "source": [
    "# Gets the version\n",
    "ctx = snowflake.connector.connect(\n",
    "    account=os.environ['SNOWSQL_ACCOUNT'],\n",
    "    user=os.environ['SNOWSQL_USER'],\n",
    "    password=os.environ['SNOWSQL_PWD'],\n",
    "    authenticator=os.environ['SNOWSQL_AUTH']\n",
    "    )\n",
    "cs = ctx.cursor()\n",
    "try:\n",
    "    cs.execute(\"SELECT current_version()\")\n",
    "    one_row = cs.fetchone()\n",
    "    print(one_row[0])\n",
    "finally:\n",
    "    cs.close()\n",
    "ctx.close()"
   ]
  },
  {
   "cell_type": "code",
   "execution_count": null,
   "metadata": {},
   "outputs": [],
   "source": []
  }
 ],
 "metadata": {
  "kernelspec": {
   "display_name": "Python 3",
   "language": "python",
   "name": "python3"
  },
  "language_info": {
   "codemirror_mode": {
    "name": "ipython",
    "version": 3
   },
   "file_extension": ".py",
   "mimetype": "text/x-python",
   "name": "python",
   "nbconvert_exporter": "python",
   "pygments_lexer": "ipython3",
   "version": "3.7.2"
  }
 },
 "nbformat": 4,
 "nbformat_minor": 2
}
