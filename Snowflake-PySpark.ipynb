{
 "cells": [
  {
   "cell_type": "markdown",
   "metadata": {},
   "source": [
    "### Main Imports"
   ]
  },
  {
   "cell_type": "code",
   "execution_count": 2,
   "metadata": {},
   "outputs": [],
   "source": [
    "import os, sys, time\n",
    "\n",
    "# Spark SQL\n",
    "import pyspark\n",
    "from pyspark.sql import SparkSession\n",
    "from pyspark.sql.types import *\n"
   ]
  },
  {
   "cell_type": "markdown",
   "metadata": {},
   "source": [
    "### Create a new Spark Session "
   ]
  },
  {
   "cell_type": "code",
   "execution_count": 3,
   "metadata": {},
   "outputs": [
    {
     "data": {
      "text/plain": [
       "'net.snowflake:snowflake-jdbc:3.8.7,net.snowflake:spark-snowflake_2.11:2.5.1-spark_2.4'"
      ]
     },
     "execution_count": 3,
     "metadata": {},
     "output_type": "execute_result"
    }
   ],
   "source": [
    "extra_jars = ','.join([\n",
    "    \"net.snowflake:snowflake-jdbc:3.8.7\",\n",
    "    \"net.snowflake:spark-snowflake_2.11:2.5.1-spark_2.4\"\n",
    "])\n",
    "extra_jars"
   ]
  },
  {
   "cell_type": "code",
   "execution_count": 4,
   "metadata": {},
   "outputs": [
    {
     "data": {
      "text/plain": [
       "'2.4.0'"
      ]
     },
     "execution_count": 4,
     "metadata": {},
     "output_type": "execute_result"
    }
   ],
   "source": [
    "spark = SparkSession.builder \\\n",
    "        .appName(\"Spark Snowflake Experiments\") \\\n",
    "        .master(\"local[*]\") \\\n",
    "        .config(\"spark.driver.memory\", \"4G\") \\\n",
    "        .config(\"spark.driver.maxResultSize\", \"2G\") \\\n",
    "        .config(\"spark.serializer\", \"org.apache.spark.serializer.KryoSerializer\") \\\n",
    "        .config(\"spark.kryoserializer.buffer.max\", \"500m\")\\\n",
    "        .config(\"spark.jars.repositories\", \"http://repo.spring.io/plugins-release\") \\\n",
    "        .getOrCreate()\n",
    "\n",
    "spark.version"
   ]
  },
  {
   "cell_type": "markdown",
   "metadata": {},
   "source": [
    "### Import Snowflake Config"
   ]
  },
  {
   "cell_type": "code",
   "execution_count": 5,
   "metadata": {},
   "outputs": [],
   "source": [
    "from dotenv import load_dotenv\n",
    "from pathlib import Path \n",
    "\n",
    "# Load all setting from the environment file\n",
    "env_path = Path('.') / '.env-dev'\n",
    "load_dotenv(dotenv_path=env_path, verbose=True, )\n",
    "\n",
    "sfOptions = {\n",
    "    \"sfURL\" : f\"{os.environ['SNOWSQL_ACCOUNT']}.snowflakecomputing.com\",\n",
    "    \"sfUser\" : os.environ['SNOWSQL_USER'],\n",
    "    \"sfPassword\" : os.environ['SNOWSQL_PWD'],\n",
    "    \"sfDatabase\" : os.environ['SNOWSQL_DATABASE'],\n",
    "    \"sfSchema\" : os.environ['SNOWSQL_SCHEMA'],\n",
    "    \"sfWarehouse\" : os.environ['SNOWSQL_WAREHOUSE'],\n",
    "    \"authenticator\": os.environ['SNOWSQL_AUTH'],\n",
    "}\n"
   ]
  },
  {
   "cell_type": "markdown",
   "metadata": {},
   "source": [
    "### Enabling Pushdown in the Session"
   ]
  },
  {
   "cell_type": "code",
   "execution_count": 6,
   "metadata": {},
   "outputs": [],
   "source": [
    "sc = spark.sparkContext\n",
    "sc._jvm.net.snowflake.spark.snowflake.SnowflakeConnectorUtils.enablePushdownSession(sc._jvm.org.apache.spark.sql.SparkSession.builder().getOrCreate())\n",
    "#sc._jvm.net.snowflake.spark.snowflake.SnowflakeConnectorUtils.disablePushdownSession(sc._jvm.org.apache.spark.sql.SparkSession.builder().getOrCreate())\n",
    "\n"
   ]
  },
  {
   "cell_type": "markdown",
   "metadata": {},
   "source": [
    "### Run a Query on Snowflake"
   ]
  },
  {
   "cell_type": "code",
   "execution_count": 7,
   "metadata": {},
   "outputs": [
    {
     "name": "stdout",
     "output_type": "stream",
     "text": [
      "+-------------+\n",
      "|SAMPLE_AMOUNT|\n",
      "+-------------+\n",
      "|           10|\n",
      "|           25|\n",
      "+-------------+\n",
      "\n"
     ]
    }
   ],
   "source": [
    "SNOWFLAKE_SOURCE_NAME = \"net.snowflake.spark.snowflake\"\n",
    "\n",
    "\n",
    "df = spark.read.format(SNOWFLAKE_SOURCE_NAME) \\\n",
    "  .options(**sfOptions) \\\n",
    "  .option(\"query\",  \"select 10 as sample_amount union all select 25 as sample_amount\") \\\n",
    "  .load()\n",
    "\n",
    "df.show()\n"
   ]
  },
  {
   "cell_type": "code",
   "execution_count": null,
   "metadata": {},
   "outputs": [],
   "source": []
  }
 ],
 "metadata": {
  "kernelspec": {
   "display_name": "Python 3",
   "language": "python",
   "name": "python3"
  },
  "language_info": {
   "codemirror_mode": {
    "name": "ipython",
    "version": 3
   },
   "file_extension": ".py",
   "mimetype": "text/x-python",
   "name": "python",
   "nbconvert_exporter": "python",
   "pygments_lexer": "ipython3",
   "version": "3.7.2"
  }
 },
 "nbformat": 4,
 "nbformat_minor": 2
}
